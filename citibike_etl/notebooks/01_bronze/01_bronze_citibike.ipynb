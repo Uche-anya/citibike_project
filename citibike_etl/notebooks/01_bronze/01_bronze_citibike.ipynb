{
 "cells": [
  {
   "cell_type": "code",
   "execution_count": 2,
   "metadata": {},
   "outputs": [],
   "source": [
    "from pyspark.sql.types import StructType, StructField, StringType, DecimalType, TimestampType\n",
    "from pyspark.sql.functions import create_map, lit"
   ]
  },
  {
   "cell_type": "code",
   "execution_count": null,
   "metadata": {},
   "outputs": [],
   "source": [
    "pipeline_id = dbutils.widgets.get(\"pipeline_id\")\n",
    "run_id =   dbutils.widgets.get(\"run_id\")\n",
    "task_id =  dbutils.widgets.get(\"task_id\")\n",
    "processed_timestamp = dbutils.widgets.get(\"processed_timestamp\")\n",
    "catalog = dbutils.widgets.get(\"catalog\")"
   ]
  },
  {
   "cell_type": "code",
   "execution_count": 3,
   "metadata": {},
   "outputs": [],
   "source": [
    "schema = StructType([\n",
    "    StructField(\"ride_id\", StringType(), True),\n",
    "    StructField(\"rideable_type\", StringType(), True),\n",
    "    StructField(\"started_at\", TimestampType(), True),\n",
    "    StructField(\"ended_at\", TimestampType(), True),\n",
    "    StructField(\"start_station_name\", StringType(), True), \n",
    "    StructField(\"start_station_id\", StringType(), True),   \n",
    "    StructField(\"end_station_name\", StringType(), True), \n",
    "    StructField(\"end_station_id\", StringType(), True), \n",
    "    StructField(\"start_lat\", DecimalType(), True), \n",
    "    StructField(\"start_lng\", DecimalType(), True), \n",
    "    StructField(\"end_lat\", DecimalType(), True), \n",
    "    StructField(\"end_lng\", DecimalType(), True), \n",
    "    StructField(\"member_casual\", StringType(), True), \n",
    "])"
   ]
  },
  {
   "cell_type": "code",
   "execution_count": null,
   "metadata": {},
   "outputs": [],
   "source": [
    "df = spark.read.csv(f\"/Volumes/{catalog}/00_landing/source_citibike_data/JC-202503-citibike-tripdata.csv\", schema=schema, header=True)"
   ]
  },
  {
   "cell_type": "code",
   "execution_count": null,
   "metadata": {},
   "outputs": [],
   "source": [
    "df = df.withColumn(\"metadata\", \n",
    "              create_map(\n",
    "                  lit(\"pipeline_id\"), lit(pipeline_id),\n",
    "                  lit(\"run_id\"), lit(run_id),\n",
    "                  lit(\"task_id\"), lit(task_id),\n",
    "                  lit(\"processed_timestamp\"), lit(processed_timestamp)\n",
    "                  ))"
   ]
  },
  {
   "cell_type": "code",
   "execution_count": null,
   "metadata": {},
   "outputs": [
    {
     "data": {
      "application/vnd.jupyter.widget-view+json": {
       "model_id": "39b8d85e462940e99942e092b860c19e",
       "version_major": 2,
       "version_minor": 0
      },
      "text/plain": [
       "HBox(children=(IntProgress(value=0, bar_style='success'), Label(value='')))"
      ]
     },
     "metadata": {},
     "output_type": "display_data"
    },
    {
     "ename": "",
     "evalue": "",
     "output_type": "error",
     "traceback": [
      "\u001b[1;31mThe Kernel crashed while executing code in the current cell or a previous cell. \n",
      "\u001b[1;31mPlease review the code in the cell(s) to identify a possible cause of the failure. \n",
      "\u001b[1;31mClick <a href='https://aka.ms/vscodeJupyterKernelCrash'>here</a> for more info. \n",
      "\u001b[1;31mView Jupyter <a href='command:jupyter.viewOutput'>log</a> for further details."
     ]
    }
   ],
   "source": [
    "df.write.\\\n",
    "    mode(\"overwrite\").\\\n",
    "    option(\"overwriteSchema\", \"true\").\\\n",
    "    saveAsTable(f\"{catalog}.01_bronze.jc_citibike\")"
   ]
  }
 ],
 "metadata": {
  "kernelspec": {
   "display_name": ".venv_dbc",
   "language": "python",
   "name": "python3"
  },
  "language_info": {
   "codemirror_mode": {
    "name": "ipython",
    "version": 3
   },
   "file_extension": ".py",
   "mimetype": "text/x-python",
   "name": "python",
   "nbconvert_exporter": "python",
   "pygments_lexer": "ipython3",
   "version": "3.11.1"
  }
 },
 "nbformat": 4,
 "nbformat_minor": 2
}
